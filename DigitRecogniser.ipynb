{
 "cells": [
  {
   "cell_type": "code",
   "execution_count": null,
   "id": "ea768b49-3592-418a-a25c-c10e15da78c3",
   "metadata": {},
   "outputs": [],
   "source": [
    "#Submitted https://www.kaggle.com/code/jameslindseyjones/digitrecognition"
   ]
  },
  {
   "cell_type": "code",
   "execution_count": 101,
   "id": "13791024-b785-47e3-88f8-8c2b6edae016",
   "metadata": {},
   "outputs": [],
   "source": [
    "import numpy as np\n",
    "import pandas as pd\n",
    "import tensorflow as tf\n",
    "from tensorflow.keras.models import Sequential\n",
    "from tensorflow.keras.layers import Dense\n",
    "from tensorflow.keras.activations import linear, relu, sigmoid\n",
    "import matplotlib.pyplot as plt"
   ]
  },
  {
   "cell_type": "code",
   "execution_count": 102,
   "id": "372b5fcc-a288-4d47-a338-f1d434ceb2dd",
   "metadata": {},
   "outputs": [
    {
     "data": {
      "text/html": [
       "<div>\n",
       "<style scoped>\n",
       "    .dataframe tbody tr th:only-of-type {\n",
       "        vertical-align: middle;\n",
       "    }\n",
       "\n",
       "    .dataframe tbody tr th {\n",
       "        vertical-align: top;\n",
       "    }\n",
       "\n",
       "    .dataframe thead th {\n",
       "        text-align: right;\n",
       "    }\n",
       "</style>\n",
       "<table border=\"1\" class=\"dataframe\">\n",
       "  <thead>\n",
       "    <tr style=\"text-align: right;\">\n",
       "      <th></th>\n",
       "      <th>label</th>\n",
       "      <th>pixel0</th>\n",
       "      <th>pixel1</th>\n",
       "      <th>pixel2</th>\n",
       "      <th>pixel3</th>\n",
       "      <th>pixel4</th>\n",
       "      <th>pixel5</th>\n",
       "      <th>pixel6</th>\n",
       "      <th>pixel7</th>\n",
       "      <th>pixel8</th>\n",
       "      <th>...</th>\n",
       "      <th>pixel774</th>\n",
       "      <th>pixel775</th>\n",
       "      <th>pixel776</th>\n",
       "      <th>pixel777</th>\n",
       "      <th>pixel778</th>\n",
       "      <th>pixel779</th>\n",
       "      <th>pixel780</th>\n",
       "      <th>pixel781</th>\n",
       "      <th>pixel782</th>\n",
       "      <th>pixel783</th>\n",
       "    </tr>\n",
       "  </thead>\n",
       "  <tbody>\n",
       "    <tr>\n",
       "      <th>0</th>\n",
       "      <td>1</td>\n",
       "      <td>0</td>\n",
       "      <td>0</td>\n",
       "      <td>0</td>\n",
       "      <td>0</td>\n",
       "      <td>0</td>\n",
       "      <td>0</td>\n",
       "      <td>0</td>\n",
       "      <td>0</td>\n",
       "      <td>0</td>\n",
       "      <td>...</td>\n",
       "      <td>0</td>\n",
       "      <td>0</td>\n",
       "      <td>0</td>\n",
       "      <td>0</td>\n",
       "      <td>0</td>\n",
       "      <td>0</td>\n",
       "      <td>0</td>\n",
       "      <td>0</td>\n",
       "      <td>0</td>\n",
       "      <td>0</td>\n",
       "    </tr>\n",
       "    <tr>\n",
       "      <th>1</th>\n",
       "      <td>0</td>\n",
       "      <td>0</td>\n",
       "      <td>0</td>\n",
       "      <td>0</td>\n",
       "      <td>0</td>\n",
       "      <td>0</td>\n",
       "      <td>0</td>\n",
       "      <td>0</td>\n",
       "      <td>0</td>\n",
       "      <td>0</td>\n",
       "      <td>...</td>\n",
       "      <td>0</td>\n",
       "      <td>0</td>\n",
       "      <td>0</td>\n",
       "      <td>0</td>\n",
       "      <td>0</td>\n",
       "      <td>0</td>\n",
       "      <td>0</td>\n",
       "      <td>0</td>\n",
       "      <td>0</td>\n",
       "      <td>0</td>\n",
       "    </tr>\n",
       "    <tr>\n",
       "      <th>2</th>\n",
       "      <td>1</td>\n",
       "      <td>0</td>\n",
       "      <td>0</td>\n",
       "      <td>0</td>\n",
       "      <td>0</td>\n",
       "      <td>0</td>\n",
       "      <td>0</td>\n",
       "      <td>0</td>\n",
       "      <td>0</td>\n",
       "      <td>0</td>\n",
       "      <td>...</td>\n",
       "      <td>0</td>\n",
       "      <td>0</td>\n",
       "      <td>0</td>\n",
       "      <td>0</td>\n",
       "      <td>0</td>\n",
       "      <td>0</td>\n",
       "      <td>0</td>\n",
       "      <td>0</td>\n",
       "      <td>0</td>\n",
       "      <td>0</td>\n",
       "    </tr>\n",
       "    <tr>\n",
       "      <th>3</th>\n",
       "      <td>4</td>\n",
       "      <td>0</td>\n",
       "      <td>0</td>\n",
       "      <td>0</td>\n",
       "      <td>0</td>\n",
       "      <td>0</td>\n",
       "      <td>0</td>\n",
       "      <td>0</td>\n",
       "      <td>0</td>\n",
       "      <td>0</td>\n",
       "      <td>...</td>\n",
       "      <td>0</td>\n",
       "      <td>0</td>\n",
       "      <td>0</td>\n",
       "      <td>0</td>\n",
       "      <td>0</td>\n",
       "      <td>0</td>\n",
       "      <td>0</td>\n",
       "      <td>0</td>\n",
       "      <td>0</td>\n",
       "      <td>0</td>\n",
       "    </tr>\n",
       "    <tr>\n",
       "      <th>4</th>\n",
       "      <td>0</td>\n",
       "      <td>0</td>\n",
       "      <td>0</td>\n",
       "      <td>0</td>\n",
       "      <td>0</td>\n",
       "      <td>0</td>\n",
       "      <td>0</td>\n",
       "      <td>0</td>\n",
       "      <td>0</td>\n",
       "      <td>0</td>\n",
       "      <td>...</td>\n",
       "      <td>0</td>\n",
       "      <td>0</td>\n",
       "      <td>0</td>\n",
       "      <td>0</td>\n",
       "      <td>0</td>\n",
       "      <td>0</td>\n",
       "      <td>0</td>\n",
       "      <td>0</td>\n",
       "      <td>0</td>\n",
       "      <td>0</td>\n",
       "    </tr>\n",
       "  </tbody>\n",
       "</table>\n",
       "<p>5 rows × 785 columns</p>\n",
       "</div>"
      ],
      "text/plain": [
       "   label  pixel0  pixel1  pixel2  pixel3  pixel4  pixel5  pixel6  pixel7  \\\n",
       "0      1       0       0       0       0       0       0       0       0   \n",
       "1      0       0       0       0       0       0       0       0       0   \n",
       "2      1       0       0       0       0       0       0       0       0   \n",
       "3      4       0       0       0       0       0       0       0       0   \n",
       "4      0       0       0       0       0       0       0       0       0   \n",
       "\n",
       "   pixel8  ...  pixel774  pixel775  pixel776  pixel777  pixel778  pixel779  \\\n",
       "0       0  ...         0         0         0         0         0         0   \n",
       "1       0  ...         0         0         0         0         0         0   \n",
       "2       0  ...         0         0         0         0         0         0   \n",
       "3       0  ...         0         0         0         0         0         0   \n",
       "4       0  ...         0         0         0         0         0         0   \n",
       "\n",
       "   pixel780  pixel781  pixel782  pixel783  \n",
       "0         0         0         0         0  \n",
       "1         0         0         0         0  \n",
       "2         0         0         0         0  \n",
       "3         0         0         0         0  \n",
       "4         0         0         0         0  \n",
       "\n",
       "[5 rows x 785 columns]"
      ]
     },
     "execution_count": 102,
     "metadata": {},
     "output_type": "execute_result"
    }
   ],
   "source": [
    "train_data = pd.read_csv(\"data/train.csv\")\n",
    "train_data.head()"
   ]
  },
  {
   "cell_type": "code",
   "execution_count": 103,
   "id": "c9c58e12-8916-43ff-a479-d42c428c1e94",
   "metadata": {},
   "outputs": [
    {
     "data": {
      "text/html": [
       "<div>\n",
       "<style scoped>\n",
       "    .dataframe tbody tr th:only-of-type {\n",
       "        vertical-align: middle;\n",
       "    }\n",
       "\n",
       "    .dataframe tbody tr th {\n",
       "        vertical-align: top;\n",
       "    }\n",
       "\n",
       "    .dataframe thead th {\n",
       "        text-align: right;\n",
       "    }\n",
       "</style>\n",
       "<table border=\"1\" class=\"dataframe\">\n",
       "  <thead>\n",
       "    <tr style=\"text-align: right;\">\n",
       "      <th></th>\n",
       "      <th>pixel0</th>\n",
       "      <th>pixel1</th>\n",
       "      <th>pixel2</th>\n",
       "      <th>pixel3</th>\n",
       "      <th>pixel4</th>\n",
       "      <th>pixel5</th>\n",
       "      <th>pixel6</th>\n",
       "      <th>pixel7</th>\n",
       "      <th>pixel8</th>\n",
       "      <th>pixel9</th>\n",
       "      <th>...</th>\n",
       "      <th>pixel774</th>\n",
       "      <th>pixel775</th>\n",
       "      <th>pixel776</th>\n",
       "      <th>pixel777</th>\n",
       "      <th>pixel778</th>\n",
       "      <th>pixel779</th>\n",
       "      <th>pixel780</th>\n",
       "      <th>pixel781</th>\n",
       "      <th>pixel782</th>\n",
       "      <th>pixel783</th>\n",
       "    </tr>\n",
       "  </thead>\n",
       "  <tbody>\n",
       "    <tr>\n",
       "      <th>0</th>\n",
       "      <td>0</td>\n",
       "      <td>0</td>\n",
       "      <td>0</td>\n",
       "      <td>0</td>\n",
       "      <td>0</td>\n",
       "      <td>0</td>\n",
       "      <td>0</td>\n",
       "      <td>0</td>\n",
       "      <td>0</td>\n",
       "      <td>0</td>\n",
       "      <td>...</td>\n",
       "      <td>0</td>\n",
       "      <td>0</td>\n",
       "      <td>0</td>\n",
       "      <td>0</td>\n",
       "      <td>0</td>\n",
       "      <td>0</td>\n",
       "      <td>0</td>\n",
       "      <td>0</td>\n",
       "      <td>0</td>\n",
       "      <td>0</td>\n",
       "    </tr>\n",
       "    <tr>\n",
       "      <th>1</th>\n",
       "      <td>0</td>\n",
       "      <td>0</td>\n",
       "      <td>0</td>\n",
       "      <td>0</td>\n",
       "      <td>0</td>\n",
       "      <td>0</td>\n",
       "      <td>0</td>\n",
       "      <td>0</td>\n",
       "      <td>0</td>\n",
       "      <td>0</td>\n",
       "      <td>...</td>\n",
       "      <td>0</td>\n",
       "      <td>0</td>\n",
       "      <td>0</td>\n",
       "      <td>0</td>\n",
       "      <td>0</td>\n",
       "      <td>0</td>\n",
       "      <td>0</td>\n",
       "      <td>0</td>\n",
       "      <td>0</td>\n",
       "      <td>0</td>\n",
       "    </tr>\n",
       "    <tr>\n",
       "      <th>2</th>\n",
       "      <td>0</td>\n",
       "      <td>0</td>\n",
       "      <td>0</td>\n",
       "      <td>0</td>\n",
       "      <td>0</td>\n",
       "      <td>0</td>\n",
       "      <td>0</td>\n",
       "      <td>0</td>\n",
       "      <td>0</td>\n",
       "      <td>0</td>\n",
       "      <td>...</td>\n",
       "      <td>0</td>\n",
       "      <td>0</td>\n",
       "      <td>0</td>\n",
       "      <td>0</td>\n",
       "      <td>0</td>\n",
       "      <td>0</td>\n",
       "      <td>0</td>\n",
       "      <td>0</td>\n",
       "      <td>0</td>\n",
       "      <td>0</td>\n",
       "    </tr>\n",
       "    <tr>\n",
       "      <th>3</th>\n",
       "      <td>0</td>\n",
       "      <td>0</td>\n",
       "      <td>0</td>\n",
       "      <td>0</td>\n",
       "      <td>0</td>\n",
       "      <td>0</td>\n",
       "      <td>0</td>\n",
       "      <td>0</td>\n",
       "      <td>0</td>\n",
       "      <td>0</td>\n",
       "      <td>...</td>\n",
       "      <td>0</td>\n",
       "      <td>0</td>\n",
       "      <td>0</td>\n",
       "      <td>0</td>\n",
       "      <td>0</td>\n",
       "      <td>0</td>\n",
       "      <td>0</td>\n",
       "      <td>0</td>\n",
       "      <td>0</td>\n",
       "      <td>0</td>\n",
       "    </tr>\n",
       "    <tr>\n",
       "      <th>4</th>\n",
       "      <td>0</td>\n",
       "      <td>0</td>\n",
       "      <td>0</td>\n",
       "      <td>0</td>\n",
       "      <td>0</td>\n",
       "      <td>0</td>\n",
       "      <td>0</td>\n",
       "      <td>0</td>\n",
       "      <td>0</td>\n",
       "      <td>0</td>\n",
       "      <td>...</td>\n",
       "      <td>0</td>\n",
       "      <td>0</td>\n",
       "      <td>0</td>\n",
       "      <td>0</td>\n",
       "      <td>0</td>\n",
       "      <td>0</td>\n",
       "      <td>0</td>\n",
       "      <td>0</td>\n",
       "      <td>0</td>\n",
       "      <td>0</td>\n",
       "    </tr>\n",
       "  </tbody>\n",
       "</table>\n",
       "<p>5 rows × 784 columns</p>\n",
       "</div>"
      ],
      "text/plain": [
       "   pixel0  pixel1  pixel2  pixel3  pixel4  pixel5  pixel6  pixel7  pixel8  \\\n",
       "0       0       0       0       0       0       0       0       0       0   \n",
       "1       0       0       0       0       0       0       0       0       0   \n",
       "2       0       0       0       0       0       0       0       0       0   \n",
       "3       0       0       0       0       0       0       0       0       0   \n",
       "4       0       0       0       0       0       0       0       0       0   \n",
       "\n",
       "   pixel9  ...  pixel774  pixel775  pixel776  pixel777  pixel778  pixel779  \\\n",
       "0       0  ...         0         0         0         0         0         0   \n",
       "1       0  ...         0         0         0         0         0         0   \n",
       "2       0  ...         0         0         0         0         0         0   \n",
       "3       0  ...         0         0         0         0         0         0   \n",
       "4       0  ...         0         0         0         0         0         0   \n",
       "\n",
       "   pixel780  pixel781  pixel782  pixel783  \n",
       "0         0         0         0         0  \n",
       "1         0         0         0         0  \n",
       "2         0         0         0         0  \n",
       "3         0         0         0         0  \n",
       "4         0         0         0         0  \n",
       "\n",
       "[5 rows x 784 columns]"
      ]
     },
     "execution_count": 103,
     "metadata": {},
     "output_type": "execute_result"
    }
   ],
   "source": [
    "test_data = pd.read_csv(\"data/test.csv\")\n",
    "test_data.head()"
   ]
  },
  {
   "cell_type": "code",
   "execution_count": 104,
   "id": "11bf8e44-e122-4cc0-833a-fe002f56ec9c",
   "metadata": {},
   "outputs": [
    {
     "data": {
      "text/plain": [
       "(42000,)"
      ]
     },
     "execution_count": 104,
     "metadata": {},
     "output_type": "execute_result"
    }
   ],
   "source": [
    "y_train = train_data['label'].to_numpy()\n",
    "y_train.shape"
   ]
  },
  {
   "cell_type": "code",
   "execution_count": 105,
   "id": "99b307d0-64fa-4d38-b459-a6f05720a838",
   "metadata": {
    "tags": []
   },
   "outputs": [
    {
     "data": {
      "text/plain": [
       "(1000,)"
      ]
     },
     "execution_count": 105,
     "metadata": {},
     "output_type": "execute_result"
    }
   ],
   "source": [
    "y_train_cv = y_train[:1000]\n",
    "y_train_cv.shape"
   ]
  },
  {
   "cell_type": "code",
   "execution_count": 106,
   "id": "e9a1c581-e9ff-4350-9071-3a1535dedfdc",
   "metadata": {
    "tags": []
   },
   "outputs": [
    {
     "data": {
      "text/plain": [
       "(41000,)"
      ]
     },
     "execution_count": 106,
     "metadata": {},
     "output_type": "execute_result"
    }
   ],
   "source": [
    "y_train_cv_removed = y_train[1000:]\n",
    "y_train_cv_removed.shape"
   ]
  },
  {
   "cell_type": "code",
   "execution_count": 107,
   "id": "da7f18c6-5e3e-4852-93bf-89d419541d9b",
   "metadata": {},
   "outputs": [
    {
     "data": {
      "text/html": [
       "<div>\n",
       "<style scoped>\n",
       "    .dataframe tbody tr th:only-of-type {\n",
       "        vertical-align: middle;\n",
       "    }\n",
       "\n",
       "    .dataframe tbody tr th {\n",
       "        vertical-align: top;\n",
       "    }\n",
       "\n",
       "    .dataframe thead th {\n",
       "        text-align: right;\n",
       "    }\n",
       "</style>\n",
       "<table border=\"1\" class=\"dataframe\">\n",
       "  <thead>\n",
       "    <tr style=\"text-align: right;\">\n",
       "      <th></th>\n",
       "      <th>pixel0</th>\n",
       "      <th>pixel1</th>\n",
       "      <th>pixel2</th>\n",
       "      <th>pixel3</th>\n",
       "      <th>pixel4</th>\n",
       "      <th>pixel5</th>\n",
       "      <th>pixel6</th>\n",
       "      <th>pixel7</th>\n",
       "      <th>pixel8</th>\n",
       "      <th>pixel9</th>\n",
       "      <th>...</th>\n",
       "      <th>pixel774</th>\n",
       "      <th>pixel775</th>\n",
       "      <th>pixel776</th>\n",
       "      <th>pixel777</th>\n",
       "      <th>pixel778</th>\n",
       "      <th>pixel779</th>\n",
       "      <th>pixel780</th>\n",
       "      <th>pixel781</th>\n",
       "      <th>pixel782</th>\n",
       "      <th>pixel783</th>\n",
       "    </tr>\n",
       "  </thead>\n",
       "  <tbody>\n",
       "    <tr>\n",
       "      <th>0</th>\n",
       "      <td>0</td>\n",
       "      <td>0</td>\n",
       "      <td>0</td>\n",
       "      <td>0</td>\n",
       "      <td>0</td>\n",
       "      <td>0</td>\n",
       "      <td>0</td>\n",
       "      <td>0</td>\n",
       "      <td>0</td>\n",
       "      <td>0</td>\n",
       "      <td>...</td>\n",
       "      <td>0</td>\n",
       "      <td>0</td>\n",
       "      <td>0</td>\n",
       "      <td>0</td>\n",
       "      <td>0</td>\n",
       "      <td>0</td>\n",
       "      <td>0</td>\n",
       "      <td>0</td>\n",
       "      <td>0</td>\n",
       "      <td>0</td>\n",
       "    </tr>\n",
       "    <tr>\n",
       "      <th>1</th>\n",
       "      <td>0</td>\n",
       "      <td>0</td>\n",
       "      <td>0</td>\n",
       "      <td>0</td>\n",
       "      <td>0</td>\n",
       "      <td>0</td>\n",
       "      <td>0</td>\n",
       "      <td>0</td>\n",
       "      <td>0</td>\n",
       "      <td>0</td>\n",
       "      <td>...</td>\n",
       "      <td>0</td>\n",
       "      <td>0</td>\n",
       "      <td>0</td>\n",
       "      <td>0</td>\n",
       "      <td>0</td>\n",
       "      <td>0</td>\n",
       "      <td>0</td>\n",
       "      <td>0</td>\n",
       "      <td>0</td>\n",
       "      <td>0</td>\n",
       "    </tr>\n",
       "    <tr>\n",
       "      <th>2</th>\n",
       "      <td>0</td>\n",
       "      <td>0</td>\n",
       "      <td>0</td>\n",
       "      <td>0</td>\n",
       "      <td>0</td>\n",
       "      <td>0</td>\n",
       "      <td>0</td>\n",
       "      <td>0</td>\n",
       "      <td>0</td>\n",
       "      <td>0</td>\n",
       "      <td>...</td>\n",
       "      <td>0</td>\n",
       "      <td>0</td>\n",
       "      <td>0</td>\n",
       "      <td>0</td>\n",
       "      <td>0</td>\n",
       "      <td>0</td>\n",
       "      <td>0</td>\n",
       "      <td>0</td>\n",
       "      <td>0</td>\n",
       "      <td>0</td>\n",
       "    </tr>\n",
       "    <tr>\n",
       "      <th>3</th>\n",
       "      <td>0</td>\n",
       "      <td>0</td>\n",
       "      <td>0</td>\n",
       "      <td>0</td>\n",
       "      <td>0</td>\n",
       "      <td>0</td>\n",
       "      <td>0</td>\n",
       "      <td>0</td>\n",
       "      <td>0</td>\n",
       "      <td>0</td>\n",
       "      <td>...</td>\n",
       "      <td>0</td>\n",
       "      <td>0</td>\n",
       "      <td>0</td>\n",
       "      <td>0</td>\n",
       "      <td>0</td>\n",
       "      <td>0</td>\n",
       "      <td>0</td>\n",
       "      <td>0</td>\n",
       "      <td>0</td>\n",
       "      <td>0</td>\n",
       "    </tr>\n",
       "    <tr>\n",
       "      <th>4</th>\n",
       "      <td>0</td>\n",
       "      <td>0</td>\n",
       "      <td>0</td>\n",
       "      <td>0</td>\n",
       "      <td>0</td>\n",
       "      <td>0</td>\n",
       "      <td>0</td>\n",
       "      <td>0</td>\n",
       "      <td>0</td>\n",
       "      <td>0</td>\n",
       "      <td>...</td>\n",
       "      <td>0</td>\n",
       "      <td>0</td>\n",
       "      <td>0</td>\n",
       "      <td>0</td>\n",
       "      <td>0</td>\n",
       "      <td>0</td>\n",
       "      <td>0</td>\n",
       "      <td>0</td>\n",
       "      <td>0</td>\n",
       "      <td>0</td>\n",
       "    </tr>\n",
       "  </tbody>\n",
       "</table>\n",
       "<p>5 rows × 784 columns</p>\n",
       "</div>"
      ],
      "text/plain": [
       "   pixel0  pixel1  pixel2  pixel3  pixel4  pixel5  pixel6  pixel7  pixel8  \\\n",
       "0       0       0       0       0       0       0       0       0       0   \n",
       "1       0       0       0       0       0       0       0       0       0   \n",
       "2       0       0       0       0       0       0       0       0       0   \n",
       "3       0       0       0       0       0       0       0       0       0   \n",
       "4       0       0       0       0       0       0       0       0       0   \n",
       "\n",
       "   pixel9  ...  pixel774  pixel775  pixel776  pixel777  pixel778  pixel779  \\\n",
       "0       0  ...         0         0         0         0         0         0   \n",
       "1       0  ...         0         0         0         0         0         0   \n",
       "2       0  ...         0         0         0         0         0         0   \n",
       "3       0  ...         0         0         0         0         0         0   \n",
       "4       0  ...         0         0         0         0         0         0   \n",
       "\n",
       "   pixel780  pixel781  pixel782  pixel783  \n",
       "0         0         0         0         0  \n",
       "1         0         0         0         0  \n",
       "2         0         0         0         0  \n",
       "3         0         0         0         0  \n",
       "4         0         0         0         0  \n",
       "\n",
       "[5 rows x 784 columns]"
      ]
     },
     "execution_count": 107,
     "metadata": {},
     "output_type": "execute_result"
    }
   ],
   "source": [
    "train_data_label_removed = train_data.drop(columns=['label'])\n",
    "train_data_label_removed.head()"
   ]
  },
  {
   "cell_type": "code",
   "execution_count": 108,
   "id": "1118a3f8-f082-42cd-9bab-eec2b54846ed",
   "metadata": {},
   "outputs": [
    {
     "data": {
      "text/plain": [
       "(1000, 784)"
      ]
     },
     "execution_count": 108,
     "metadata": {},
     "output_type": "execute_result"
    }
   ],
   "source": [
    "x_train = train_data_label_removed.to_numpy()\n",
    "x_train.shape\n",
    "x_train_cv = x_train[0:1000,:]\n",
    "x_train_cv.shape"
   ]
  },
  {
   "cell_type": "code",
   "execution_count": 109,
   "id": "880dd6d8-7c01-497b-9d12-0490c3d6f7fa",
   "metadata": {
    "tags": []
   },
   "outputs": [
    {
     "data": {
      "text/plain": [
       "(41000, 784)"
      ]
     },
     "execution_count": 109,
     "metadata": {},
     "output_type": "execute_result"
    }
   ],
   "source": [
    "x_train_cv_removed = x_train[1000:,:]\n",
    "x_train_cv_removed.shape"
   ]
  },
  {
   "cell_type": "code",
   "execution_count": 110,
   "id": "d1254e62-e789-49d4-9b86-bf0a8df7afb6",
   "metadata": {},
   "outputs": [
    {
     "data": {
      "text/plain": [
       "(28000, 784)"
      ]
     },
     "execution_count": 110,
     "metadata": {},
     "output_type": "execute_result"
    }
   ],
   "source": [
    "x_test = test_data.to_numpy()\n",
    "x_test.shape"
   ]
  },
  {
   "cell_type": "code",
   "execution_count": 111,
   "id": "fea00483-a604-4fd7-958e-d6c31ddf4e75",
   "metadata": {},
   "outputs": [],
   "source": [
    "model = Sequential(\n",
    "    [               \n",
    "        tf.keras.Input(shape=(784,)),     \n",
    "        Dense(25, activation='relu', name = \"L1\"),\n",
    "        Dense(20, activation='relu',  name = \"L2\"),\n",
    "        Dense(15, activation='relu',  name = \"L3\"),\n",
    "        Dense(10, activation='linear', name = \"L4\"),\n",
    "    ], name = \"my_model\" \n",
    ")"
   ]
  },
  {
   "cell_type": "code",
   "execution_count": 112,
   "id": "d89b4bb4-d755-4f37-a2f8-8971bd49c3d4",
   "metadata": {},
   "outputs": [],
   "source": [
    "model.compile(\n",
    "    loss=tf.keras.losses.SparseCategoricalCrossentropy(from_logits=True),\n",
    "    optimizer=tf.keras.optimizers.Adam(learning_rate=0.001),\n",
    ")"
   ]
  },
  {
   "cell_type": "code",
   "execution_count": 113,
   "id": "35076e63-d16e-49e7-92fa-1b641ec6195b",
   "metadata": {},
   "outputs": [
    {
     "name": "stdout",
     "output_type": "stream",
     "text": [
      "Epoch 1/100\n",
      "1282/1282 [==============================] - 1s 716us/step - loss: 1.5542\n",
      "Epoch 2/100\n",
      "1282/1282 [==============================] - 1s 699us/step - loss: 0.5439\n",
      "Epoch 3/100\n",
      "1282/1282 [==============================] - 1s 702us/step - loss: 0.3928\n",
      "Epoch 4/100\n",
      "1282/1282 [==============================] - 1s 704us/step - loss: 0.3432\n",
      "Epoch 5/100\n",
      "1282/1282 [==============================] - 1s 707us/step - loss: 0.3102\n",
      "Epoch 6/100\n",
      "1282/1282 [==============================] - 1s 697us/step - loss: 0.2869\n",
      "Epoch 7/100\n",
      "1282/1282 [==============================] - 1s 697us/step - loss: 0.2680\n",
      "Epoch 8/100\n",
      "1282/1282 [==============================] - 1s 693us/step - loss: 0.2487\n",
      "Epoch 9/100\n",
      "1282/1282 [==============================] - 1s 691us/step - loss: 0.2261\n",
      "Epoch 10/100\n",
      "1282/1282 [==============================] - 1s 695us/step - loss: 0.2073\n",
      "Epoch 11/100\n",
      "1282/1282 [==============================] - 1s 696us/step - loss: 0.1949\n",
      "Epoch 12/100\n",
      "1282/1282 [==============================] - 1s 697us/step - loss: 0.1800\n",
      "Epoch 13/100\n",
      "1282/1282 [==============================] - 1s 691us/step - loss: 0.1736\n",
      "Epoch 14/100\n",
      "1282/1282 [==============================] - 1s 687us/step - loss: 0.1599\n",
      "Epoch 15/100\n",
      "1282/1282 [==============================] - 1s 687us/step - loss: 0.1542\n",
      "Epoch 16/100\n",
      "1282/1282 [==============================] - 1s 684us/step - loss: 0.1471\n",
      "Epoch 17/100\n",
      "1282/1282 [==============================] - 1s 679us/step - loss: 0.1382\n",
      "Epoch 18/100\n",
      "1282/1282 [==============================] - 1s 684us/step - loss: 0.1356\n",
      "Epoch 19/100\n",
      "1282/1282 [==============================] - 1s 683us/step - loss: 0.1327\n",
      "Epoch 20/100\n",
      "1282/1282 [==============================] - 1s 686us/step - loss: 0.1250\n",
      "Epoch 21/100\n",
      "1282/1282 [==============================] - 1s 686us/step - loss: 0.1238\n",
      "Epoch 22/100\n",
      "1282/1282 [==============================] - 1s 685us/step - loss: 0.1233\n",
      "Epoch 23/100\n",
      "1282/1282 [==============================] - 1s 682us/step - loss: 0.1210\n",
      "Epoch 24/100\n",
      "1282/1282 [==============================] - 1s 686us/step - loss: 0.1166\n",
      "Epoch 25/100\n",
      "1282/1282 [==============================] - 1s 686us/step - loss: 0.1150\n",
      "Epoch 26/100\n",
      "1282/1282 [==============================] - 1s 688us/step - loss: 0.1093\n",
      "Epoch 27/100\n",
      "1282/1282 [==============================] - 1s 695us/step - loss: 0.1072\n",
      "Epoch 28/100\n",
      "1282/1282 [==============================] - 1s 684us/step - loss: 0.1074\n",
      "Epoch 29/100\n",
      "1282/1282 [==============================] - 1s 691us/step - loss: 0.1070\n",
      "Epoch 30/100\n",
      "1282/1282 [==============================] - 1s 688us/step - loss: 0.1001\n",
      "Epoch 31/100\n",
      "1282/1282 [==============================] - 1s 682us/step - loss: 0.0998\n",
      "Epoch 32/100\n",
      "1282/1282 [==============================] - 1s 683us/step - loss: 0.0985\n",
      "Epoch 33/100\n",
      "1282/1282 [==============================] - 1s 692us/step - loss: 0.0962\n",
      "Epoch 34/100\n",
      "1282/1282 [==============================] - 1s 696us/step - loss: 0.0964\n",
      "Epoch 35/100\n",
      "1282/1282 [==============================] - 1s 691us/step - loss: 0.0923\n",
      "Epoch 36/100\n",
      "1282/1282 [==============================] - 1s 693us/step - loss: 0.0921\n",
      "Epoch 37/100\n",
      "1282/1282 [==============================] - 1s 691us/step - loss: 0.0895\n",
      "Epoch 38/100\n",
      "1282/1282 [==============================] - 1s 700us/step - loss: 0.0849\n",
      "Epoch 39/100\n",
      "1282/1282 [==============================] - 1s 700us/step - loss: 0.0881\n",
      "Epoch 40/100\n",
      "1282/1282 [==============================] - 1s 701us/step - loss: 0.0834\n",
      "Epoch 41/100\n",
      "1282/1282 [==============================] - 1s 692us/step - loss: 0.0822\n",
      "Epoch 42/100\n",
      "1282/1282 [==============================] - 1s 689us/step - loss: 0.0806\n",
      "Epoch 43/100\n",
      "1282/1282 [==============================] - 1s 689us/step - loss: 0.0816\n",
      "Epoch 44/100\n",
      "1282/1282 [==============================] - 1s 697us/step - loss: 0.0815\n",
      "Epoch 45/100\n",
      "1282/1282 [==============================] - 1s 686us/step - loss: 0.0817\n",
      "Epoch 46/100\n",
      "1282/1282 [==============================] - 1s 699us/step - loss: 0.0774\n",
      "Epoch 47/100\n",
      "1282/1282 [==============================] - 1s 693us/step - loss: 0.0730\n",
      "Epoch 48/100\n",
      "1282/1282 [==============================] - 1s 691us/step - loss: 0.0764\n",
      "Epoch 49/100\n",
      "1282/1282 [==============================] - 1s 693us/step - loss: 0.0787\n",
      "Epoch 50/100\n",
      "1282/1282 [==============================] - 1s 690us/step - loss: 0.0747\n",
      "Epoch 51/100\n",
      "1282/1282 [==============================] - 1s 694us/step - loss: 0.0737\n",
      "Epoch 52/100\n",
      "1282/1282 [==============================] - 1s 691us/step - loss: 0.0699\n",
      "Epoch 53/100\n",
      "1282/1282 [==============================] - 1s 693us/step - loss: 0.0740\n",
      "Epoch 54/100\n",
      "1282/1282 [==============================] - 1s 698us/step - loss: 0.0670\n",
      "Epoch 55/100\n",
      "1282/1282 [==============================] - 1s 696us/step - loss: 0.0717\n",
      "Epoch 56/100\n",
      "1282/1282 [==============================] - 1s 706us/step - loss: 0.0718\n",
      "Epoch 57/100\n",
      "1282/1282 [==============================] - 1s 713us/step - loss: 0.0643\n",
      "Epoch 58/100\n",
      "1282/1282 [==============================] - 1s 746us/step - loss: 0.0683\n",
      "Epoch 59/100\n",
      "1282/1282 [==============================] - 1s 737us/step - loss: 0.0677\n",
      "Epoch 60/100\n",
      "1282/1282 [==============================] - 1s 736us/step - loss: 0.0651\n",
      "Epoch 61/100\n",
      "1282/1282 [==============================] - 1s 725us/step - loss: 0.0659\n",
      "Epoch 62/100\n",
      "1282/1282 [==============================] - 1s 729us/step - loss: 0.0667\n",
      "Epoch 63/100\n",
      "1282/1282 [==============================] - 1s 707us/step - loss: 0.0628\n",
      "Epoch 64/100\n",
      "1282/1282 [==============================] - 1s 697us/step - loss: 0.0620\n",
      "Epoch 65/100\n",
      "1282/1282 [==============================] - 1s 700us/step - loss: 0.0691\n",
      "Epoch 66/100\n",
      "1282/1282 [==============================] - 1s 709us/step - loss: 0.0606\n",
      "Epoch 67/100\n",
      "1282/1282 [==============================] - 1s 702us/step - loss: 0.0605\n",
      "Epoch 68/100\n",
      "1282/1282 [==============================] - 1s 702us/step - loss: 0.0618\n",
      "Epoch 69/100\n",
      "1282/1282 [==============================] - 1s 699us/step - loss: 0.0582\n",
      "Epoch 70/100\n",
      "1282/1282 [==============================] - 1s 700us/step - loss: 0.0595\n",
      "Epoch 71/100\n",
      "1282/1282 [==============================] - 1s 701us/step - loss: 0.0586\n",
      "Epoch 72/100\n",
      "1282/1282 [==============================] - 1s 701us/step - loss: 0.0591\n",
      "Epoch 73/100\n",
      "1282/1282 [==============================] - 1s 700us/step - loss: 0.0615\n",
      "Epoch 74/100\n",
      "1282/1282 [==============================] - 1s 697us/step - loss: 0.0618\n",
      "Epoch 75/100\n",
      "1282/1282 [==============================] - 1s 705us/step - loss: 0.0586\n",
      "Epoch 76/100\n",
      "1282/1282 [==============================] - 1s 696us/step - loss: 0.0585\n",
      "Epoch 77/100\n",
      "1282/1282 [==============================] - 1s 705us/step - loss: 0.0578\n",
      "Epoch 78/100\n",
      "1282/1282 [==============================] - 1s 702us/step - loss: 0.0585\n",
      "Epoch 79/100\n",
      "1282/1282 [==============================] - 1s 703us/step - loss: 0.0576\n",
      "Epoch 80/100\n",
      "1282/1282 [==============================] - 1s 711us/step - loss: 0.0631\n",
      "Epoch 81/100\n",
      "1282/1282 [==============================] - 1s 706us/step - loss: 0.0579\n",
      "Epoch 82/100\n",
      "1282/1282 [==============================] - 1s 701us/step - loss: 0.0507\n",
      "Epoch 83/100\n",
      "1282/1282 [==============================] - 1s 701us/step - loss: 0.0545\n",
      "Epoch 84/100\n",
      "1282/1282 [==============================] - 1s 704us/step - loss: 0.0535\n",
      "Epoch 85/100\n",
      "1282/1282 [==============================] - 1s 698us/step - loss: 0.0562\n",
      "Epoch 86/100\n",
      "1282/1282 [==============================] - 1s 698us/step - loss: 0.0541\n",
      "Epoch 87/100\n",
      "1282/1282 [==============================] - 1s 697us/step - loss: 0.0553\n",
      "Epoch 88/100\n",
      "1282/1282 [==============================] - 1s 700us/step - loss: 0.0489\n",
      "Epoch 89/100\n",
      "1282/1282 [==============================] - 1s 697us/step - loss: 0.0555\n",
      "Epoch 90/100\n",
      "1282/1282 [==============================] - 1s 696us/step - loss: 0.0507\n",
      "Epoch 91/100\n",
      "1282/1282 [==============================] - 1s 698us/step - loss: 0.0501\n",
      "Epoch 92/100\n",
      "1282/1282 [==============================] - 1s 695us/step - loss: 0.0530\n",
      "Epoch 93/100\n",
      "1282/1282 [==============================] - 1s 693us/step - loss: 0.0497\n",
      "Epoch 94/100\n",
      "1282/1282 [==============================] - 1s 693us/step - loss: 0.0560\n",
      "Epoch 95/100\n",
      "1282/1282 [==============================] - 1s 696us/step - loss: 0.0597\n",
      "Epoch 96/100\n",
      "1282/1282 [==============================] - 1s 695us/step - loss: 0.0484\n",
      "Epoch 97/100\n",
      "1282/1282 [==============================] - 1s 701us/step - loss: 0.0503\n",
      "Epoch 98/100\n",
      "1282/1282 [==============================] - 1s 702us/step - loss: 0.0503\n",
      "Epoch 99/100\n",
      "1282/1282 [==============================] - 1s 704us/step - loss: 0.0478\n",
      "Epoch 100/100\n",
      "1282/1282 [==============================] - 1s 705us/step - loss: 0.0518\n"
     ]
    },
    {
     "data": {
      "text/plain": [
       "<keras.callbacks.History at 0x1bcffd92630>"
      ]
     },
     "execution_count": 113,
     "metadata": {},
     "output_type": "execute_result"
    }
   ],
   "source": [
    "model.fit(\n",
    "    x_train_cv_removed,y_train_cv_removed,\n",
    "    epochs=100\n",
    ")"
   ]
  },
  {
   "cell_type": "code",
   "execution_count": 114,
   "id": "ac44dc8f-6d4b-4b52-bc72-94328f470336",
   "metadata": {},
   "outputs": [
    {
     "name": "stdout",
     "output_type": "stream",
     "text": [
      "1/1 [==============================] - 0s 24ms/step\n",
      "Model prediction:  3\n"
     ]
    },
    {
     "data": {
      "image/png": "[encoded data removed]",
      "text/plain": [
       "<Figure size 640x480 with 1 Axes>"
      ]
     },
     "metadata": {},
     "output_type": "display_data"
    }
   ],
   "source": [
    "x_test_reshaped_for_plotting = np.reshape(x_test, (28000, 28, 28))\n",
    "plt.imshow(x_test_reshaped_for_plotting[9], cmap=\"gray\")\n",
    "#should be a 3\n",
    "print(\"Model prediction: \",  np.argmax(model.predict(x_test[9].reshape(1, 784))))"
   ]
  },
  {
   "cell_type": "code",
   "execution_count": 115,
   "id": "a8c802ce-9bb3-4d24-8758-b200f6ab70a5",
   "metadata": {
    "tags": []
   },
   "outputs": [
    {
     "name": "stdout",
     "output_type": "stream",
     "text": [
      "32/32 [==============================] - 0s 548us/step\n"
     ]
    }
   ],
   "source": [
    "x_train_cv_reshaped = np.reshape(x_train_cv, (1000, 784))\n",
    "results_cv = model.predict(x_train_cv_reshaped)"
   ]
  },
  {
   "cell_type": "code",
   "execution_count": 116,
   "id": "000c976b-263c-45ed-80bc-fd32604000b7",
   "metadata": {
    "tags": []
   },
   "outputs": [
    {
     "data": {
      "text/plain": [
       "957"
      ]
     },
     "execution_count": 116,
     "metadata": {},
     "output_type": "execute_result"
    }
   ],
   "source": [
    "predictions_cv = []\n",
    "correct = 0\n",
    "for i in range(len(results_cv)):\n",
    "    if (np.argmax(results_cv[i]) == y_train_cv[i]):\n",
    "        correct+=1\n",
    "correct"
   ]
  },
  {
   "cell_type": "code",
   "execution_count": 117,
   "id": "ec804cf7-2d4e-4ef6-8a8a-eff75f4b6f1e",
   "metadata": {
    "tags": []
   },
   "outputs": [
    {
     "name": "stdout",
     "output_type": "stream",
     "text": [
      "Cross Validation set score: 0.957\n"
     ]
    }
   ],
   "source": [
    "crossvalidation_score = correct/len(x_train_cv)\n",
    "print(\"Cross Validation set score:\", crossvalidation_score)"
   ]
  },
  {
   "cell_type": "code",
   "execution_count": 118,
   "id": "93f03265-23d7-405b-86b3-709319141ffe",
   "metadata": {
    "tags": []
   },
   "outputs": [
    {
     "name": "stdout",
     "output_type": "stream",
     "text": [
      "1282/1282 [==============================] - 1s 493us/step\n"
     ]
    },
    {
     "data": {
      "text/plain": [
       "40329"
      ]
     },
     "execution_count": 118,
     "metadata": {},
     "output_type": "execute_result"
    }
   ],
   "source": [
    "x_training_set_reshaped = np.reshape(x_train_cv_removed, (41000, 784))\n",
    "results_training_set = model.predict(x_training_set_reshaped)\n",
    "predictions_training_set = []\n",
    "correct_training_set = 0\n",
    "for i in range(len(results_training_set)):\n",
    "    if (np.argmax(results_training_set[i]) == y_train_cv_removed[i]):\n",
    "        correct_training_set+=1\n",
    "correct_training_set"
   ]
  },
  {
   "cell_type": "code",
   "execution_count": 119,
   "id": "96433a97-681a-48fc-a190-4ba9274de6dd",
   "metadata": {
    "tags": []
   },
   "outputs": [
    {
     "name": "stdout",
     "output_type": "stream",
     "text": [
      "Training set score: 0.9836341463414634\n"
     ]
    }
   ],
   "source": [
    "training_set_score = correct_training_set/len(x_train_cv_removed)\n",
    "print(\"Training set score:\", training_set_score)"
   ]
  },
  {
   "cell_type": "code",
   "execution_count": 120,
   "id": "78048d32-d3c5-479a-87eb-981b785805aa",
   "metadata": {},
   "outputs": [
    {
     "name": "stdout",
     "output_type": "stream",
     "text": [
      "875/875 [==============================] - 0s 545us/step\n"
     ]
    }
   ],
   "source": [
    "x_reshaped_for_full_prediction = np.reshape(x_test, (28000, 784))\n",
    "results = model.predict(x_reshaped_for_full_prediction)"
   ]
  },
  {
   "cell_type": "markdown",
   "id": "4133fe7b-b53c-4bd0-a932-d53ff302483f",
   "metadata": {},
   "source": [
    "# "
   ]
  }
 ],
 "metadata": {
  "kernelspec": {
   "display_name": "Python 3 (ipykernel)",
   "language": "python",
   "name": "python3"
  },
  "language_info": {
   "codemirror_mode": {
    "name": "ipython",
    "version": 3
   },
   "file_extension": ".py",
   "mimetype": "text/x-python",
   "name": "python",
   "nbconvert_exporter": "python",
   "pygments_lexer": "ipython3",
   "version": "3.7.2"
  }
 },
 "nbformat": 4,
 "nbformat_minor": 5
}
