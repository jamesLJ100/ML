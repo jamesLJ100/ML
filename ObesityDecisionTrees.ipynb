{
 "cells": [
  {
   "cell_type": "code",
   "execution_count": null,
   "id": "d0d8c614-ffc4-4958-bfce-cde7f99d1186",
   "metadata": {},
   "outputs": [],
   "source": [
    "#Submitted https://www.kaggle.com/jameslindseyjones/obesityrisk-xgboost"
   ]
  },
  {
   "cell_type": "code",
   "execution_count": 100,
   "id": "e1c301a4-f29a-4c83-bba1-8fe29b986ef2",
   "metadata": {
    "tags": []
   },
   "outputs": [],
   "source": [
    "import numpy as np\n",
    "import pandas as pd\n",
    "from sklearn.model_selection import train_test_split\n",
    "from sklearn.metrics import accuracy_score\n",
    "from sklearn.preprocessing import LabelEncoder\n",
    "import matplotlib.pyplot as plt\n",
    "import seaborn as sns\n",
    "from xgboost import XGBClassifier\n",
    "from sklearn.ensemble import RandomForestClassifier\n"
   ]
  },
  {
   "cell_type": "code",
   "execution_count": 80,
   "id": "26e37bb2-134b-4229-b44e-774404fba51d",
   "metadata": {
    "tags": []
   },
   "outputs": [
    {
     "data": {
      "text/html": [
       "<div>\n",
       "<style scoped>\n",
       "    .dataframe tbody tr th:only-of-type {\n",
       "        vertical-align: middle;\n",
       "    }\n",
       "\n",
       "    .dataframe tbody tr th {\n",
       "        vertical-align: top;\n",
       "    }\n",
       "\n",
       "    .dataframe thead th {\n",
       "        text-align: right;\n",
       "    }\n",
       "</style>\n",
       "<table border=\"1\" class=\"dataframe\">\n",
       "  <thead>\n",
       "    <tr style=\"text-align: right;\">\n",
       "      <th></th>\n",
       "      <th>id</th>\n",
       "      <th>Gender</th>\n",
       "      <th>Age</th>\n",
       "      <th>Height</th>\n",
       "      <th>Weight</th>\n",
       "      <th>family_history_with_overweight</th>\n",
       "      <th>FAVC</th>\n",
       "      <th>FCVC</th>\n",
       "      <th>NCP</th>\n",
       "      <th>CAEC</th>\n",
       "      <th>SMOKE</th>\n",
       "      <th>CH2O</th>\n",
       "      <th>SCC</th>\n",
       "      <th>FAF</th>\n",
       "      <th>TUE</th>\n",
       "      <th>CALC</th>\n",
       "      <th>MTRANS</th>\n",
       "      <th>NObeyesdad</th>\n",
       "    </tr>\n",
       "  </thead>\n",
       "  <tbody>\n",
       "    <tr>\n",
       "      <th>0</th>\n",
       "      <td>0</td>\n",
       "      <td>Male</td>\n",
       "      <td>24.443011</td>\n",
       "      <td>1.699998</td>\n",
       "      <td>81.669950</td>\n",
       "      <td>yes</td>\n",
       "      <td>yes</td>\n",
       "      <td>2.000000</td>\n",
       "      <td>2.983297</td>\n",
       "      <td>Sometimes</td>\n",
       "      <td>no</td>\n",
       "      <td>2.763573</td>\n",
       "      <td>no</td>\n",
       "      <td>0.000000</td>\n",
       "      <td>0.976473</td>\n",
       "      <td>Sometimes</td>\n",
       "      <td>Public_Transportation</td>\n",
       "      <td>Overweight_Level_II</td>\n",
       "    </tr>\n",
       "    <tr>\n",
       "      <th>1</th>\n",
       "      <td>1</td>\n",
       "      <td>Female</td>\n",
       "      <td>18.000000</td>\n",
       "      <td>1.560000</td>\n",
       "      <td>57.000000</td>\n",
       "      <td>yes</td>\n",
       "      <td>yes</td>\n",
       "      <td>2.000000</td>\n",
       "      <td>3.000000</td>\n",
       "      <td>Frequently</td>\n",
       "      <td>no</td>\n",
       "      <td>2.000000</td>\n",
       "      <td>no</td>\n",
       "      <td>1.000000</td>\n",
       "      <td>1.000000</td>\n",
       "      <td>no</td>\n",
       "      <td>Automobile</td>\n",
       "      <td>Normal_Weight</td>\n",
       "    </tr>\n",
       "    <tr>\n",
       "      <th>2</th>\n",
       "      <td>2</td>\n",
       "      <td>Female</td>\n",
       "      <td>18.000000</td>\n",
       "      <td>1.711460</td>\n",
       "      <td>50.165754</td>\n",
       "      <td>yes</td>\n",
       "      <td>yes</td>\n",
       "      <td>1.880534</td>\n",
       "      <td>1.411685</td>\n",
       "      <td>Sometimes</td>\n",
       "      <td>no</td>\n",
       "      <td>1.910378</td>\n",
       "      <td>no</td>\n",
       "      <td>0.866045</td>\n",
       "      <td>1.673584</td>\n",
       "      <td>no</td>\n",
       "      <td>Public_Transportation</td>\n",
       "      <td>Insufficient_Weight</td>\n",
       "    </tr>\n",
       "    <tr>\n",
       "      <th>3</th>\n",
       "      <td>3</td>\n",
       "      <td>Female</td>\n",
       "      <td>20.952737</td>\n",
       "      <td>1.710730</td>\n",
       "      <td>131.274851</td>\n",
       "      <td>yes</td>\n",
       "      <td>yes</td>\n",
       "      <td>3.000000</td>\n",
       "      <td>3.000000</td>\n",
       "      <td>Sometimes</td>\n",
       "      <td>no</td>\n",
       "      <td>1.674061</td>\n",
       "      <td>no</td>\n",
       "      <td>1.467863</td>\n",
       "      <td>0.780199</td>\n",
       "      <td>Sometimes</td>\n",
       "      <td>Public_Transportation</td>\n",
       "      <td>Obesity_Type_III</td>\n",
       "    </tr>\n",
       "    <tr>\n",
       "      <th>4</th>\n",
       "      <td>4</td>\n",
       "      <td>Male</td>\n",
       "      <td>31.641081</td>\n",
       "      <td>1.914186</td>\n",
       "      <td>93.798055</td>\n",
       "      <td>yes</td>\n",
       "      <td>yes</td>\n",
       "      <td>2.679664</td>\n",
       "      <td>1.971472</td>\n",
       "      <td>Sometimes</td>\n",
       "      <td>no</td>\n",
       "      <td>1.979848</td>\n",
       "      <td>no</td>\n",
       "      <td>1.967973</td>\n",
       "      <td>0.931721</td>\n",
       "      <td>Sometimes</td>\n",
       "      <td>Public_Transportation</td>\n",
       "      <td>Overweight_Level_II</td>\n",
       "    </tr>\n",
       "  </tbody>\n",
       "</table>\n",
       "</div>"
      ],
      "text/plain": [
       "   id  Gender        Age    Height      Weight family_history_with_overweight  \\\n",
       "0   0    Male  24.443011  1.699998   81.669950                            yes   \n",
       "1   1  Female  18.000000  1.560000   57.000000                            yes   \n",
       "2   2  Female  18.000000  1.711460   50.165754                            yes   \n",
       "3   3  Female  20.952737  1.710730  131.274851                            yes   \n",
       "4   4    Male  31.641081  1.914186   93.798055                            yes   \n",
       "\n",
       "  FAVC      FCVC       NCP        CAEC SMOKE      CH2O SCC       FAF  \\\n",
       "0  yes  2.000000  2.983297   Sometimes    no  2.763573  no  0.000000   \n",
       "1  yes  2.000000  3.000000  Frequently    no  2.000000  no  1.000000   \n",
       "2  yes  1.880534  1.411685   Sometimes    no  1.910378  no  0.866045   \n",
       "3  yes  3.000000  3.000000   Sometimes    no  1.674061  no  1.467863   \n",
       "4  yes  2.679664  1.971472   Sometimes    no  1.979848  no  1.967973   \n",
       "\n",
       "        TUE       CALC                 MTRANS           NObeyesdad  \n",
       "0  0.976473  Sometimes  Public_Transportation  Overweight_Level_II  \n",
       "1  1.000000         no             Automobile        Normal_Weight  \n",
       "2  1.673584         no  Public_Transportation  Insufficient_Weight  \n",
       "3  0.780199  Sometimes  Public_Transportation     Obesity_Type_III  \n",
       "4  0.931721  Sometimes  Public_Transportation  Overweight_Level_II  "
      ]
     },
     "execution_count": 80,
     "metadata": {},
     "output_type": "execute_result"
    }
   ],
   "source": [
    "train_data_df = pd.read_csv(\"data/train_obesity.csv\")\n",
    "train_data_df.head()"
   ]
  },
  {
   "cell_type": "code",
   "execution_count": 81,
   "id": "7d71bce5-b003-44be-bc5b-f345dbbeeff1",
   "metadata": {
    "tags": []
   },
   "outputs": [
    {
     "name": "stdout",
     "output_type": "stream",
     "text": [
      "['Overweight_Level_II' 'Normal_Weight' 'Insufficient_Weight'\n",
      " 'Obesity_Type_III' 'Obesity_Type_II' 'Overweight_Level_I'\n",
      " 'Obesity_Type_I']\n"
     ]
    }
   ],
   "source": [
    "#What are the classification categories?\n",
    "print(train_data_df['NObeyesdad'].unique())"
   ]
  },
  {
   "cell_type": "code",
   "execution_count": 82,
   "id": "82e08dc4-1cf4-4ad4-b0e5-c7d166c015e3",
   "metadata": {
    "tags": []
   },
   "outputs": [
    {
     "name": "stdout",
     "output_type": "stream",
     "text": [
      "['Overweight_Level_II' 'Normal_Weight' 'Insufficient_Weight'\n",
      " 'Obesity_Type_III' 'Obesity_Type_II' 'Overweight_Level_I'\n",
      " 'Obesity_Type_I']\n"
     ]
    },
    {
     "data": {
      "image/png": "[encoded data removed]",
      "text/plain": [
       "<Figure size 640x480 with 1 Axes>"
      ]
     },
     "metadata": {},
     "output_type": "display_data"
    },
    {
     "data": {
      "image/png": "[encoded data removed]",
      "text/plain": [
       "<Figure size 640x480 with 1 Axes>"
      ]
     },
     "metadata": {},
     "output_type": "display_data"
    }
   ],
   "source": [
    "#What are the classification categories?\n",
    "classification_categories = train_data_df['NObeyesdad'].unique()\n",
    "print(classification_categories)\n",
    "\n",
    "\n",
    "#Plots of a couple of the numerical columns\n",
    "for i, col in enumerate(['Age', 'Height']):\n",
    "    plt.figure(col)\n",
    "    plt.title(col)\n",
    "    sns.violinplot(x=col,y='NObeyesdad', order=classification_categories, data=train_data_df)\n"
   ]
  },
  {
   "cell_type": "code",
   "execution_count": 83,
   "id": "b86cc1ed-5646-435f-967b-23a55e337682",
   "metadata": {},
   "outputs": [
    {
     "data": {
      "text/html": [
       "<div>\n",
       "<style scoped>\n",
       "    .dataframe tbody tr th:only-of-type {\n",
       "        vertical-align: middle;\n",
       "    }\n",
       "\n",
       "    .dataframe tbody tr th {\n",
       "        vertical-align: top;\n",
       "    }\n",
       "\n",
       "    .dataframe thead th {\n",
       "        text-align: right;\n",
       "    }\n",
       "</style>\n",
       "<table border=\"1\" class=\"dataframe\">\n",
       "  <thead>\n",
       "    <tr style=\"text-align: right;\">\n",
       "      <th></th>\n",
       "      <th>id</th>\n",
       "      <th>Age</th>\n",
       "      <th>Height</th>\n",
       "      <th>Weight</th>\n",
       "      <th>FCVC</th>\n",
       "      <th>NCP</th>\n",
       "      <th>CH2O</th>\n",
       "      <th>FAF</th>\n",
       "      <th>TUE</th>\n",
       "      <th>NObeyesdad</th>\n",
       "      <th>...</th>\n",
       "      <th>SCC_no</th>\n",
       "      <th>SCC_yes</th>\n",
       "      <th>CALC_Frequently</th>\n",
       "      <th>CALC_Sometimes</th>\n",
       "      <th>CALC_no</th>\n",
       "      <th>MTRANS_Automobile</th>\n",
       "      <th>MTRANS_Bike</th>\n",
       "      <th>MTRANS_Motorbike</th>\n",
       "      <th>MTRANS_Public_Transportation</th>\n",
       "      <th>MTRANS_Walking</th>\n",
       "    </tr>\n",
       "  </thead>\n",
       "  <tbody>\n",
       "    <tr>\n",
       "      <th>0</th>\n",
       "      <td>0</td>\n",
       "      <td>24.443011</td>\n",
       "      <td>1.699998</td>\n",
       "      <td>81.669950</td>\n",
       "      <td>2.000000</td>\n",
       "      <td>2.983297</td>\n",
       "      <td>2.763573</td>\n",
       "      <td>0.000000</td>\n",
       "      <td>0.976473</td>\n",
       "      <td>Overweight_Level_II</td>\n",
       "      <td>...</td>\n",
       "      <td>1</td>\n",
       "      <td>0</td>\n",
       "      <td>0</td>\n",
       "      <td>1</td>\n",
       "      <td>0</td>\n",
       "      <td>0</td>\n",
       "      <td>0</td>\n",
       "      <td>0</td>\n",
       "      <td>1</td>\n",
       "      <td>0</td>\n",
       "    </tr>\n",
       "    <tr>\n",
       "      <th>1</th>\n",
       "      <td>1</td>\n",
       "      <td>18.000000</td>\n",
       "      <td>1.560000</td>\n",
       "      <td>57.000000</td>\n",
       "      <td>2.000000</td>\n",
       "      <td>3.000000</td>\n",
       "      <td>2.000000</td>\n",
       "      <td>1.000000</td>\n",
       "      <td>1.000000</td>\n",
       "      <td>Normal_Weight</td>\n",
       "      <td>...</td>\n",
       "      <td>1</td>\n",
       "      <td>0</td>\n",
       "      <td>0</td>\n",
       "      <td>0</td>\n",
       "      <td>1</td>\n",
       "      <td>1</td>\n",
       "      <td>0</td>\n",
       "      <td>0</td>\n",
       "      <td>0</td>\n",
       "      <td>0</td>\n",
       "    </tr>\n",
       "    <tr>\n",
       "      <th>2</th>\n",
       "      <td>2</td>\n",
       "      <td>18.000000</td>\n",
       "      <td>1.711460</td>\n",
       "      <td>50.165754</td>\n",
       "      <td>1.880534</td>\n",
       "      <td>1.411685</td>\n",
       "      <td>1.910378</td>\n",
       "      <td>0.866045</td>\n",
       "      <td>1.673584</td>\n",
       "      <td>Insufficient_Weight</td>\n",
       "      <td>...</td>\n",
       "      <td>1</td>\n",
       "      <td>0</td>\n",
       "      <td>0</td>\n",
       "      <td>0</td>\n",
       "      <td>1</td>\n",
       "      <td>0</td>\n",
       "      <td>0</td>\n",
       "      <td>0</td>\n",
       "      <td>1</td>\n",
       "      <td>0</td>\n",
       "    </tr>\n",
       "    <tr>\n",
       "      <th>3</th>\n",
       "      <td>3</td>\n",
       "      <td>20.952737</td>\n",
       "      <td>1.710730</td>\n",
       "      <td>131.274851</td>\n",
       "      <td>3.000000</td>\n",
       "      <td>3.000000</td>\n",
       "      <td>1.674061</td>\n",
       "      <td>1.467863</td>\n",
       "      <td>0.780199</td>\n",
       "      <td>Obesity_Type_III</td>\n",
       "      <td>...</td>\n",
       "      <td>1</td>\n",
       "      <td>0</td>\n",
       "      <td>0</td>\n",
       "      <td>1</td>\n",
       "      <td>0</td>\n",
       "      <td>0</td>\n",
       "      <td>0</td>\n",
       "      <td>0</td>\n",
       "      <td>1</td>\n",
       "      <td>0</td>\n",
       "    </tr>\n",
       "    <tr>\n",
       "      <th>4</th>\n",
       "      <td>4</td>\n",
       "      <td>31.641081</td>\n",
       "      <td>1.914186</td>\n",
       "      <td>93.798055</td>\n",
       "      <td>2.679664</td>\n",
       "      <td>1.971472</td>\n",
       "      <td>1.979848</td>\n",
       "      <td>1.967973</td>\n",
       "      <td>0.931721</td>\n",
       "      <td>Overweight_Level_II</td>\n",
       "      <td>...</td>\n",
       "      <td>1</td>\n",
       "      <td>0</td>\n",
       "      <td>0</td>\n",
       "      <td>1</td>\n",
       "      <td>0</td>\n",
       "      <td>0</td>\n",
       "      <td>0</td>\n",
       "      <td>0</td>\n",
       "      <td>1</td>\n",
       "      <td>0</td>\n",
       "    </tr>\n",
       "  </tbody>\n",
       "</table>\n",
       "<p>5 rows × 32 columns</p>\n",
       "</div>"
      ],
      "text/plain": [
       "   id        Age    Height      Weight      FCVC       NCP      CH2O  \\\n",
       "0   0  24.443011  1.699998   81.669950  2.000000  2.983297  2.763573   \n",
       "1   1  18.000000  1.560000   57.000000  2.000000  3.000000  2.000000   \n",
       "2   2  18.000000  1.711460   50.165754  1.880534  1.411685  1.910378   \n",
       "3   3  20.952737  1.710730  131.274851  3.000000  3.000000  1.674061   \n",
       "4   4  31.641081  1.914186   93.798055  2.679664  1.971472  1.979848   \n",
       "\n",
       "        FAF       TUE           NObeyesdad  ...  SCC_no  SCC_yes  \\\n",
       "0  0.000000  0.976473  Overweight_Level_II  ...       1        0   \n",
       "1  1.000000  1.000000        Normal_Weight  ...       1        0   \n",
       "2  0.866045  1.673584  Insufficient_Weight  ...       1        0   \n",
       "3  1.467863  0.780199     Obesity_Type_III  ...       1        0   \n",
       "4  1.967973  0.931721  Overweight_Level_II  ...       1        0   \n",
       "\n",
       "   CALC_Frequently  CALC_Sometimes  CALC_no  MTRANS_Automobile  MTRANS_Bike  \\\n",
       "0                0               1        0                  0            0   \n",
       "1                0               0        1                  1            0   \n",
       "2                0               0        1                  0            0   \n",
       "3                0               1        0                  0            0   \n",
       "4                0               1        0                  0            0   \n",
       "\n",
       "   MTRANS_Motorbike  MTRANS_Public_Transportation  MTRANS_Walking  \n",
       "0                 0                             1               0  \n",
       "1                 0                             0               0  \n",
       "2                 0                             1               0  \n",
       "3                 0                             1               0  \n",
       "4                 0                             1               0  \n",
       "\n",
       "[5 rows x 32 columns]"
      ]
     },
     "execution_count": 83,
     "metadata": {},
     "output_type": "execute_result"
    }
   ],
   "source": [
    "#Need to one-hot encode some columns so they may be passed into an ML model.\n",
    "variables_for_encoding = ['Gender','family_history_with_overweight','FAVC','CAEC','SMOKE','SCC','CALC','MTRANS']\n",
    "df = pd.get_dummies(data = train_data_df,\n",
    "                         prefix = variables_for_encoding,\n",
    "                         columns = variables_for_encoding)\n",
    "df.head()"
   ]
  },
  {
   "cell_type": "code",
   "execution_count": 84,
   "id": "fa09aaec-c673-4ade-b801-0b6a6e22eab7",
   "metadata": {
    "tags": []
   },
   "outputs": [
    {
     "data": {
      "text/plain": [
       "0    6\n",
       "1    1\n",
       "2    0\n",
       "3    4\n",
       "4    6\n",
       "Name: NObeyesdad, dtype: int32"
      ]
     },
     "execution_count": 84,
     "metadata": {},
     "output_type": "execute_result"
    }
   ],
   "source": [
    "#encode the target variable\n",
    "df['NObeyesdad'] = LabelEncoder().fit_transform(df['NObeyesdad'])\n",
    "df['NObeyesdad'].head()"
   ]
  },
  {
   "cell_type": "code",
   "execution_count": 85,
   "id": "e00718da-4953-4a6d-a274-b4645ec66db9",
   "metadata": {
    "tags": []
   },
   "outputs": [
    {
     "data": {
      "text/plain": [
       "['id',\n",
       " 'Age',\n",
       " 'Height',\n",
       " 'Weight',\n",
       " 'FCVC',\n",
       " 'NCP',\n",
       " 'CH2O',\n",
       " 'FAF',\n",
       " 'TUE',\n",
       " 'Gender_Female',\n",
       " 'Gender_Male',\n",
       " 'family_history_with_overweight_no',\n",
       " 'family_history_with_overweight_yes',\n",
       " 'FAVC_no',\n",
       " 'FAVC_yes',\n",
       " 'CAEC_Always',\n",
       " 'CAEC_Frequently',\n",
       " 'CAEC_Sometimes',\n",
       " 'CAEC_no',\n",
       " 'SMOKE_no',\n",
       " 'SMOKE_yes',\n",
       " 'SCC_no',\n",
       " 'SCC_yes',\n",
       " 'CALC_Frequently',\n",
       " 'CALC_Sometimes',\n",
       " 'CALC_no',\n",
       " 'MTRANS_Automobile',\n",
       " 'MTRANS_Bike',\n",
       " 'MTRANS_Motorbike',\n",
       " 'MTRANS_Public_Transportation',\n",
       " 'MTRANS_Walking']"
      ]
     },
     "execution_count": 85,
     "metadata": {},
     "output_type": "execute_result"
    }
   ],
   "source": [
    "features = [x for x in df.columns if x not in 'NObeyesdad'] ## Removing target variable\n",
    "features"
   ]
  },
  {
   "cell_type": "code",
   "execution_count": 86,
   "id": "462982c9-4f97-4ec2-9453-dc9fc97ac12b",
   "metadata": {
    "tags": []
   },
   "outputs": [
    {
     "name": "stdout",
     "output_type": "stream",
     "text": [
      "16606\n",
      "4152\n"
     ]
    }
   ],
   "source": [
    "RANDOM_STATE = 1 #For reproducible results\n",
    "#Split data to create a cross validation dataset.\n",
    "X_train, X_val, y_train, y_val = train_test_split(df[features], df['NObeyesdad'], train_size = 0.8, random_state = RANDOM_STATE)\n",
    "print(len(X_train))\n",
    "print(len(X_val))"
   ]
  },
  {
   "cell_type": "code",
   "execution_count": 160,
   "id": "2eab7d03-bcfe-49c5-bfeb-52ffa4d2446d",
   "metadata": {
    "tags": []
   },
   "outputs": [],
   "source": [
    "#Random Forest\n",
    "min_samples_split_list = [2, 10, 30, 50, 100, 200, 500]             \n",
    "max_depth_list = [2, 4, 8, 16, 32, 64, None]\n",
    "best_val_accuracy_score = 0\n"
   ]
  },
  {
   "cell_type": "code",
   "execution_count": 162,
   "id": "d7e59fab-200e-48df-ac19-2a24f98a8841",
   "metadata": {
    "tags": []
   },
   "outputs": [
    {
     "name": "stdout",
     "output_type": "stream",
     "text": [
      "Highest Accuracy 0.8923410404624278 2 32\n"
     ]
    }
   ],
   "source": [
    "for i in range(len(min_samples_split_list)):\n",
    "    for j in range(len(max_depth_list)):\n",
    "        model = RandomForestClassifier(min_samples_split = min_samples_split_list[i],\n",
    "                                       max_depth = max_depth_list[j],\n",
    "                                       n_estimators = 50,\n",
    "                                       random_state = RANDOM_STATE).fit(X_train,y_train) \n",
    "        predictions_val = model.predict(X_val) ## The predicted values for the validation dataset\n",
    "        score = accuracy_score(predictions_val,y_val)\n",
    "        if (score > best_val_accuracy_score):\n",
    "            best_val_accuracy_score = score\n",
    "            optimal_min_samples = min_samples_split_list[i]\n",
    "            optimal_max_depth = max_depth_list[j]\n"
   ]
  },
  {
   "cell_type": "code",
   "execution_count": 166,
   "id": "ad6acfac-83df-46c6-b192-50bae8a034fd",
   "metadata": {
    "tags": []
   },
   "outputs": [
    {
     "name": "stdout",
     "output_type": "stream",
     "text": [
      "Highest Accuracy: 0.8923410404624278 Optimal min samples: 2 Optimal max depth: 32\n"
     ]
    }
   ],
   "source": [
    "print(\"Highest Accuracy:\", best_val_accuracy_score, \"Optimal min samples:\", optimal_min_samples, \"Optimal max depth:\", optimal_max_depth)"
   ]
  },
  {
   "cell_type": "code",
   "execution_count": 95,
   "id": "cbe1bdee-f180-44d1-83c0-aacefdb8f7af",
   "metadata": {
    "tags": []
   },
   "outputs": [
    {
     "name": "stdout",
     "output_type": "stream",
     "text": [
      "[0]\tvalidation_0-mlogloss:1.69582\n",
      "[1]\tvalidation_0-mlogloss:1.51199\n",
      "[2]\tvalidation_0-mlogloss:1.36752\n",
      "[3]\tvalidation_0-mlogloss:1.24848\n",
      "[4]\tvalidation_0-mlogloss:1.14839\n",
      "[5]\tvalidation_0-mlogloss:1.06290\n",
      "[6]\tvalidation_0-mlogloss:0.98861\n",
      "[7]\tvalidation_0-mlogloss:0.92292\n",
      "[8]\tvalidation_0-mlogloss:0.86556\n",
      "[9]\tvalidation_0-mlogloss:0.81466\n",
      "[10]\tvalidation_0-mlogloss:0.77016\n",
      "[11]\tvalidation_0-mlogloss:0.72936\n",
      "[12]\tvalidation_0-mlogloss:0.69231\n",
      "[13]\tvalidation_0-mlogloss:0.65948\n",
      "[14]\tvalidation_0-mlogloss:0.62858\n",
      "[15]\tvalidation_0-mlogloss:0.60141\n",
      "[16]\tvalidation_0-mlogloss:0.57659\n",
      "[17]\tvalidation_0-mlogloss:0.55491\n",
      "[18]\tvalidation_0-mlogloss:0.53473\n",
      "[19]\tvalidation_0-mlogloss:0.51618\n",
      "[20]\tvalidation_0-mlogloss:0.49838\n",
      "[21]\tvalidation_0-mlogloss:0.48198\n",
      "[22]\tvalidation_0-mlogloss:0.46737\n",
      "[23]\tvalidation_0-mlogloss:0.45403\n",
      "[24]\tvalidation_0-mlogloss:0.44186\n",
      "[25]\tvalidation_0-mlogloss:0.43095\n",
      "[26]\tvalidation_0-mlogloss:0.42113\n",
      "[27]\tvalidation_0-mlogloss:0.41201\n",
      "[28]\tvalidation_0-mlogloss:0.40308\n",
      "[29]\tvalidation_0-mlogloss:0.39501\n",
      "[30]\tvalidation_0-mlogloss:0.38757\n",
      "[31]\tvalidation_0-mlogloss:0.38091\n",
      "[32]\tvalidation_0-mlogloss:0.37443\n",
      "[33]\tvalidation_0-mlogloss:0.36855\n",
      "[34]\tvalidation_0-mlogloss:0.36311\n",
      "[35]\tvalidation_0-mlogloss:0.35800\n",
      "[36]\tvalidation_0-mlogloss:0.35291\n",
      "[37]\tvalidation_0-mlogloss:0.34847\n",
      "[38]\tvalidation_0-mlogloss:0.34452\n",
      "[39]\tvalidation_0-mlogloss:0.34084\n",
      "[40]\tvalidation_0-mlogloss:0.33701\n",
      "[41]\tvalidation_0-mlogloss:0.33370\n",
      "[42]\tvalidation_0-mlogloss:0.33033\n",
      "[43]\tvalidation_0-mlogloss:0.32740\n",
      "[44]\tvalidation_0-mlogloss:0.32457\n",
      "[45]\tvalidation_0-mlogloss:0.32247\n",
      "[46]\tvalidation_0-mlogloss:0.31999\n",
      "[47]\tvalidation_0-mlogloss:0.31769\n",
      "[48]\tvalidation_0-mlogloss:0.31571\n",
      "[49]\tvalidation_0-mlogloss:0.31392\n",
      "[50]\tvalidation_0-mlogloss:0.31201\n",
      "[51]\tvalidation_0-mlogloss:0.31020\n",
      "[52]\tvalidation_0-mlogloss:0.30841\n",
      "[53]\tvalidation_0-mlogloss:0.30714\n",
      "[54]\tvalidation_0-mlogloss:0.30597\n",
      "[55]\tvalidation_0-mlogloss:0.30452\n",
      "[56]\tvalidation_0-mlogloss:0.30323\n",
      "[57]\tvalidation_0-mlogloss:0.30208\n",
      "[58]\tvalidation_0-mlogloss:0.30080\n",
      "[59]\tvalidation_0-mlogloss:0.29977\n",
      "[60]\tvalidation_0-mlogloss:0.29863\n",
      "[61]\tvalidation_0-mlogloss:0.29804\n",
      "[62]\tvalidation_0-mlogloss:0.29705\n",
      "[63]\tvalidation_0-mlogloss:0.29627\n",
      "[64]\tvalidation_0-mlogloss:0.29549\n",
      "[65]\tvalidation_0-mlogloss:0.29449\n",
      "[66]\tvalidation_0-mlogloss:0.29387\n",
      "[67]\tvalidation_0-mlogloss:0.29315\n",
      "[68]\tvalidation_0-mlogloss:0.29230\n",
      "[69]\tvalidation_0-mlogloss:0.29171\n",
      "[70]\tvalidation_0-mlogloss:0.29103\n",
      "[71]\tvalidation_0-mlogloss:0.29058\n",
      "[72]\tvalidation_0-mlogloss:0.29028\n",
      "[73]\tvalidation_0-mlogloss:0.28964\n",
      "[74]\tvalidation_0-mlogloss:0.28923\n",
      "[75]\tvalidation_0-mlogloss:0.28871\n",
      "[76]\tvalidation_0-mlogloss:0.28826\n",
      "[77]\tvalidation_0-mlogloss:0.28792\n",
      "[78]\tvalidation_0-mlogloss:0.28745\n",
      "[79]\tvalidation_0-mlogloss:0.28701\n",
      "[80]\tvalidation_0-mlogloss:0.28676\n",
      "[81]\tvalidation_0-mlogloss:0.28632\n",
      "[82]\tvalidation_0-mlogloss:0.28607\n",
      "[83]\tvalidation_0-mlogloss:0.28566\n",
      "[84]\tvalidation_0-mlogloss:0.28533\n",
      "[85]\tvalidation_0-mlogloss:0.28497\n",
      "[86]\tvalidation_0-mlogloss:0.28476\n",
      "[87]\tvalidation_0-mlogloss:0.28460\n",
      "[88]\tvalidation_0-mlogloss:0.28430\n",
      "[89]\tvalidation_0-mlogloss:0.28397\n",
      "[90]\tvalidation_0-mlogloss:0.28366\n",
      "[91]\tvalidation_0-mlogloss:0.28325\n",
      "[92]\tvalidation_0-mlogloss:0.28324\n",
      "[93]\tvalidation_0-mlogloss:0.28315\n",
      "[94]\tvalidation_0-mlogloss:0.28264\n",
      "[95]\tvalidation_0-mlogloss:0.28234\n",
      "[96]\tvalidation_0-mlogloss:0.28218\n",
      "[97]\tvalidation_0-mlogloss:0.28195\n",
      "[98]\tvalidation_0-mlogloss:0.28163\n",
      "[99]\tvalidation_0-mlogloss:0.28141\n",
      "[100]\tvalidation_0-mlogloss:0.28132\n",
      "[101]\tvalidation_0-mlogloss:0.28095\n",
      "[102]\tvalidation_0-mlogloss:0.28058\n",
      "[103]\tvalidation_0-mlogloss:0.28060\n",
      "[104]\tvalidation_0-mlogloss:0.28045\n",
      "[105]\tvalidation_0-mlogloss:0.28016\n",
      "[106]\tvalidation_0-mlogloss:0.27992\n",
      "[107]\tvalidation_0-mlogloss:0.27972\n",
      "[108]\tvalidation_0-mlogloss:0.27961\n",
      "[109]\tvalidation_0-mlogloss:0.27960\n",
      "[110]\tvalidation_0-mlogloss:0.27977\n",
      "[111]\tvalidation_0-mlogloss:0.27955\n",
      "[112]\tvalidation_0-mlogloss:0.27937\n",
      "[113]\tvalidation_0-mlogloss:0.27926\n",
      "[114]\tvalidation_0-mlogloss:0.27901\n",
      "[115]\tvalidation_0-mlogloss:0.27889\n",
      "[116]\tvalidation_0-mlogloss:0.27886\n",
      "[117]\tvalidation_0-mlogloss:0.27875\n",
      "[118]\tvalidation_0-mlogloss:0.27877\n",
      "[119]\tvalidation_0-mlogloss:0.27870\n",
      "[120]\tvalidation_0-mlogloss:0.27865\n",
      "[121]\tvalidation_0-mlogloss:0.27870\n",
      "[122]\tvalidation_0-mlogloss:0.27874\n",
      "[123]\tvalidation_0-mlogloss:0.27851\n",
      "[124]\tvalidation_0-mlogloss:0.27851\n",
      "[125]\tvalidation_0-mlogloss:0.27837\n",
      "[126]\tvalidation_0-mlogloss:0.27841\n",
      "[127]\tvalidation_0-mlogloss:0.27834\n",
      "[128]\tvalidation_0-mlogloss:0.27835\n",
      "[129]\tvalidation_0-mlogloss:0.27851\n",
      "[130]\tvalidation_0-mlogloss:0.27849\n",
      "[131]\tvalidation_0-mlogloss:0.27842\n",
      "[132]\tvalidation_0-mlogloss:0.27849\n",
      "[133]\tvalidation_0-mlogloss:0.27841\n",
      "[134]\tvalidation_0-mlogloss:0.27848\n",
      "[135]\tvalidation_0-mlogloss:0.27851\n",
      "[136]\tvalidation_0-mlogloss:0.27835\n"
     ]
    },
    {
     "data": {
      "text/plain": [
       "XGBClassifier(base_score=0.5, booster='gbtree', callbacks=None,\n",
       "              colsample_bylevel=1, colsample_bynode=1, colsample_bytree=1,\n",
       "              early_stopping_rounds=10, enable_categorical=False,\n",
       "              eval_metric=None, gamma=0, gpu_id=-1, grow_policy='depthwise',\n",
       "              importance_type=None, interaction_constraints='',\n",
       "              learning_rate=0.1, max_bin=256, max_cat_to_onehot=4,\n",
       "              max_delta_step=0, max_depth=6, max_leaves=0, min_child_weight=1,\n",
       "              missing=nan, monotone_constraints='()', n_estimators=1000,\n",
       "              n_jobs=0, num_parallel_tree=1, objective='multi:softprob',\n",
       "              predictor='auto', random_state=1, reg_alpha=0, ...)"
      ]
     },
     "execution_count": 95,
     "metadata": {},
     "output_type": "execute_result"
    }
   ],
   "source": [
    "#Try XGBoost\n",
    "n = int(len(X_train)*0.8) ## Let's use 80% to train and 20% to eval\n",
    "X_train_fit, X_train_eval, y_train_fit, y_train_eval = X_train[:n], X_train[n:], y_train[:n], y_train[n:]\n",
    "xgb_model = XGBClassifier(n_estimators = 1000, learning_rate = 0.1,verbosity = 1, random_state = RANDOM_STATE, early_stopping_rounds = 10)\n",
    "xgb_model.fit(X_train_fit,y_train_fit, eval_set = [(X_train_eval,y_train_eval)])"
   ]
  },
  {
   "cell_type": "code",
   "execution_count": 96,
   "id": "9a035e25-180d-493d-85d0-35e7f85825ca",
   "metadata": {
    "tags": []
   },
   "outputs": [
    {
     "data": {
      "text/plain": [
       "127"
      ]
     },
     "execution_count": 96,
     "metadata": {},
     "output_type": "execute_result"
    }
   ],
   "source": [
    "xgb_model.best_iteration"
   ]
  },
  {
   "cell_type": "code",
   "execution_count": 97,
   "id": "23166e88-5e13-40f0-bacf-5f0702ec953c",
   "metadata": {
    "tags": []
   },
   "outputs": [
    {
     "data": {
      "text/plain": [
       "0.954233409610984"
      ]
     },
     "execution_count": 97,
     "metadata": {},
     "output_type": "execute_result"
    }
   ],
   "source": [
    "accuracy_score(xgb_model.predict(X_train), y_train)"
   ]
  },
  {
   "cell_type": "code",
   "execution_count": 167,
   "id": "d7bca4e5-d607-4c91-8f00-e7aded87c976",
   "metadata": {
    "tags": []
   },
   "outputs": [
    {
     "data": {
      "text/plain": [
       "0.9048651252408478"
      ]
     },
     "execution_count": 167,
     "metadata": {},
     "output_type": "execute_result"
    }
   ],
   "source": [
    "accuracy_score(xgb_model.predict(X_val),y_val)"
   ]
  }
 ],
 "metadata": {
  "kernelspec": {
   "display_name": "Python 3 (ipykernel)",
   "language": "python",
   "name": "python3"
  },
  "language_info": {
   "codemirror_mode": {
    "name": "ipython",
    "version": 3
   },
   "file_extension": ".py",
   "mimetype": "text/x-python",
   "name": "python",
   "nbconvert_exporter": "python",
   "pygments_lexer": "ipython3",
   "version": "3.7.2"
  }
 },
 "nbformat": 4,
 "nbformat_minor": 5
}
