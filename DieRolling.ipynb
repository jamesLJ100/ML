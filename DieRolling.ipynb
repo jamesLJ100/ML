{
 "cells": [
  {
   "cell_type": "code",
   "execution_count": 1,
   "id": "3e77b3d5-02fb-453e-a974-bd4705a45bf8",
   "metadata": {},
   "outputs": [
    {
     "data": {
      "text/plain": [
       "4"
      ]
     },
     "execution_count": 1,
     "metadata": {},
     "output_type": "execute_result"
    }
   ],
   "source": [
    "import random\n",
    "random.randint(1,6)"
   ]
  },
  {
   "cell_type": "code",
   "execution_count": 2,
   "id": "c8fa555b-3527-4cac-8690-9a2e0de6004a",
   "metadata": {},
   "outputs": [],
   "source": [
    "def rollDice():\n",
    "    roll = random.randint(1,6)\n",
    "    return roll"
   ]
  },
  {
   "cell_type": "code",
   "execution_count": 3,
   "id": "433bc952-8642-4ba2-b2ea-4590fe3e6bdd",
   "metadata": {},
   "outputs": [
    {
     "data": {
      "text/plain": [
       "1"
      ]
     },
     "execution_count": 3,
     "metadata": {},
     "output_type": "execute_result"
    }
   ],
   "source": [
    "rollDice()"
   ]
  },
  {
   "cell_type": "code",
   "execution_count": 4,
   "id": "dcbbef09-c230-4af0-8252-c1020c701890",
   "metadata": {},
   "outputs": [],
   "source": [
    "def rollUntil(desired):\n",
    "    success = False;\n",
    "    while(success == False):\n",
    "        if (rollDice() == desired):\n",
    "            success = True\n",
    "            return;"
   ]
  },
  {
   "cell_type": "code",
   "execution_count": 5,
   "id": "75086d06-a30a-42f5-8764-4741161caa68",
   "metadata": {},
   "outputs": [],
   "source": [
    "rollUntil(1)"
   ]
  },
  {
   "cell_type": "code",
   "execution_count": 6,
   "id": "4b3bf8a8-2154-4e27-aed7-a73fea18a965",
   "metadata": {},
   "outputs": [],
   "source": [
    "def rollUntil(desired, history):\n",
    "    success = False;\n",
    "    while(success == False):\n",
    "        roll = rollDice()\n",
    "        history.append(roll)\n",
    "        if (roll == desired):\n",
    "            success = True\n",
    "            return;"
   ]
  },
  {
   "cell_type": "code",
   "execution_count": 7,
   "id": "55b5e7b0-1961-4c55-a368-35bac3cba036",
   "metadata": {},
   "outputs": [],
   "source": [
    "attempts = []\n",
    "rollUntil(1, attempts)"
   ]
  },
  {
   "cell_type": "code",
   "execution_count": 8,
   "id": "50110d64-e9ae-4f1d-8361-ea879e8112b7",
   "metadata": {},
   "outputs": [
    {
     "name": "stdout",
     "output_type": "stream",
     "text": [
      "[4, 3, 2, 1, 4, 3, 1, 2, 5, 3, 3, 2, 4, 1, 5, 3, 3, 1, 2, 3, 5, 1, 3, 5, 3, 1, 3, 5, 5, 3, 3, 5, 1, 5, 1, 4, 5, 3, 2, 2, 4, 2, 3, 5, 3, 4, 2, 6]\n"
     ]
    }
   ],
   "source": [
    "worstAttempt = []\n",
    "for i in range(10000):\n",
    "    attempts = []\n",
    "    rollUntil(6, attempts)\n",
    "    if (len(attempts) > len(worstAttempt)):\n",
    "        worstAttempt = attempts\n",
    "print(worstAttempt)"
   ]
  },
  {
   "cell_type": "code",
   "execution_count": 9,
   "id": "85442dd7-2157-46eb-bbb3-e03d601d5a3f",
   "metadata": {},
   "outputs": [
    {
     "name": "stdout",
     "output_type": "stream",
     "text": [
      "48\n"
     ]
    }
   ],
   "source": [
    "print(len(worstAttempt))"
   ]
  },
  {
   "cell_type": "code",
   "execution_count": 10,
   "id": "036f741f-65e0-4b5a-961c-52f52a77cf4f",
   "metadata": {},
   "outputs": [
    {
     "name": "stdout",
     "output_type": "stream",
     "text": [
      "[4, 3, 2, 1, 4, 3, 1, 2, 5, 3, 3, 2, 4, 1, 5, 3, 3, 1, 2, 3, 5, 1, 3, 5, 3, 1, 3, 5, 5, 3, 3, 5, 1, 5, 1, 4, 5, 3, 2, 2, 4, 2, 3, 5, 3, 4, 2, 6]\n"
     ]
    }
   ],
   "source": [
    "bestAttempt = []\n",
    "first = True\n",
    "for i in range(10000):\n",
    "    attempts = []\n",
    "    rollUntil(6, attempts)\n",
    "    if (first == True | len(attempts) < len(bestAttempt)):\n",
    "        bestAttempt = attempts\n",
    "        first = False\n",
    "print(worstAttempt)"
   ]
  }
 ],
 "metadata": {
  "kernelspec": {
   "display_name": "Python 3 (ipykernel)",
   "language": "python",
   "name": "python3"
  },
  "language_info": {
   "codemirror_mode": {
    "name": "ipython",
    "version": 3
   },
   "file_extension": ".py",
   "mimetype": "text/x-python",
   "name": "python",
   "nbconvert_exporter": "python",
   "pygments_lexer": "ipython3",
   "version": "3.7.2"
  }
 },
 "nbformat": 4,
 "nbformat_minor": 5
}
